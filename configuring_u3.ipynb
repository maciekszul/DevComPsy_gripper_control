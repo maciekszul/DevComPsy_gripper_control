{
 "cells": [
  {
   "cell_type": "code",
   "execution_count": 1,
   "id": "508e2a6f",
   "metadata": {},
   "outputs": [],
   "source": [
    "import u3"
   ]
  },
  {
   "cell_type": "code",
   "execution_count": 7,
   "id": "eb7c998c",
   "metadata": {},
   "outputs": [
    {
     "name": "stdout",
     "output_type": "stream",
     "text": [
      "{'FirmwareVersion': '1.46', 'BootloaderVersion': '0.27', 'HardwareVersion': '1.30', 'SerialNumber': 320111053, 'ProductID': 3, 'LocalID': 1, 'TimerCounterMask': 64, 'FIOAnalog': 15, 'FIODirection': 0, 'FIOState': 0, 'EIOAnalog': 0, 'EIODirection': 0, 'EIOState': 0, 'CIODirection': 0, 'CIOState': 0, 'DAC1Enable': 1, 'DAC0': 0, 'DAC1': 0, 'TimerClockConfig': 2, 'TimerClockDivisor': 256, 'CompatibilityOptions': 0, 'VersionInfo': 18, 'DeviceName': 'U3-HV'}\n",
      "{'TimerCounterConfig': 64, 'DAC1Enable': 0, 'FIOAnalog': 15, 'EIOAnalog': 0, 'NumberOfTimersEnabled': 0, 'EnableCounter0': False, 'EnableCounter1': False, 'TimerCounterPinOffset': 4}\n",
      "{'lvSESlope': 3.7439167499542236e-05, 'lvSEOffset': 0.004279645159840584, 'lvDiffSlope': 7.508904673159122e-05, 'lvDiffOffset': -2.4659274416044354, 'dac0Slope': 50.7667960235849, 'dac0Offset': -0.6910815231967717, 'dac1Slope': 50.77740947599523, 'dac1Offset': -0.5535386849660426, 'tempSlope': 0.01262168982066214, 'vRefAtCAl': 2.4643365521915257, 'vRef1.5AtCal': 0.0, 'vRegAtCal': 0.0, 'hvAIN0Slope': 0.0003171039279550314, 'hvAIN1Slope': 0.0003172345459461212, 'hvAIN2Slope': 0.0003169220872223377, 'hvAIN3Slope': 0.0003175802994519472, 'hvAIN0Offset': -10.411540071479976, 'hvAIN1Offset': -10.423586507327855, 'hvAIN2Offset': -10.398119412595406, 'hvAIN3Offset': -10.42932559340261}\n"
     ]
    }
   ],
   "source": [
    "d = u3.U3()\n",
    "print(d.configU3())\n",
    "print(d.configIO())\n",
    "print(d.getCalibrationData())\n",
    "\n",
    "d.close()\n"
   ]
  },
  {
   "cell_type": "code",
   "execution_count": null,
   "id": "474ac460",
   "metadata": {},
   "outputs": [],
   "source": []
  }
 ],
 "metadata": {
  "kernelspec": {
   "display_name": "basic",
   "language": "python",
   "name": "python3"
  },
  "language_info": {
   "codemirror_mode": {
    "name": "ipython",
    "version": 3
   },
   "file_extension": ".py",
   "mimetype": "text/x-python",
   "name": "python",
   "nbconvert_exporter": "python",
   "pygments_lexer": "ipython3",
   "version": "3.13.2"
  }
 },
 "nbformat": 4,
 "nbformat_minor": 5
}
